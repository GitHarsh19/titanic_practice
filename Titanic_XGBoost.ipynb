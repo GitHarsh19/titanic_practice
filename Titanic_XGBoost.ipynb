{
 "cells": [
  {
   "cell_type": "code",
   "execution_count": 6,
   "id": "10585127",
   "metadata": {},
   "outputs": [],
   "source": [
    "import pandas as pd\n",
    "import numpy as np\n",
    "import seaborn as sns\n",
    "import matplotlib.pyplot as plt\n",
    "from xgboost import XGBClassifier\n",
    "from sklearn.model_selection import train_test_split, StratifiedKFold, GridSearchCV\n",
    "from sklearn.metrics import accuracy_score, precision_score, recall_score, roc_curve, auc\n",
    "from sklearn.preprocessing import LabelEncoder\n",
    "from xgboost import XGBClassifier\n",
    "\n",
    "plt.style.use('ggplot')\n",
    "pd.set_option('display.max_columns', False)\n",
    "seed= 92"
   ]
  },
  {
   "cell_type": "markdown",
   "id": "e0f0e5ff",
   "metadata": {},
   "source": [
    "# Load Data"
   ]
  },
  {
   "cell_type": "markdown",
   "id": "fd11fbd1",
   "metadata": {},
   "source": []
  },
  {
   "cell_type": "code",
   "execution_count": 7,
   "id": "1deba664",
   "metadata": {},
   "outputs": [],
   "source": [
    "train= pd.read_csv('/Users/harshitagarwal/Desktop/Kaggle Competitions/Titanic - ML from Disaster/titanic/train.csv')\n",
    "test= pd.read_csv('/Users/harshitagarwal/Desktop/Kaggle Competitions/Titanic - ML from Disaster/titanic/test.csv')"
   ]
  },
  {
   "cell_type": "markdown",
   "id": "d50183a7",
   "metadata": {},
   "source": [
    "# EDA\n",
    "## -> Check For Duplicates\n",
    "## -> Check Shape of the Data\n",
    "## -> Check initial Trends or Patterns"
   ]
  },
  {
   "cell_type": "code",
   "execution_count": null,
   "id": "ae582352",
   "metadata": {},
   "outputs": [
    {
     "name": "stdout",
     "output_type": "stream",
     "text": [
      "Number of duplicate rows: 0\n",
      "Shape of train:    (891, 12)\n",
      "Shape of test:     (418, 11)\n",
      "Shape of all_data: (1309, 12)\n"
     ]
    }
   ],
   "source": [
    "#Combining train and test datasetss\n",
    "all_data = pd.concat([train, test], axis=0).reset_index(drop=True) #resets index to a new version and drops the old one\n",
    "\n",
    "#Duplicates and shapes\n",
    "print(F\"Number of duplicate rows: {len(all_data.drop('Survived', axis=1))-len(all_data.drop('Survived', axis=1).drop_duplicates())}\") #total_rows - unique_rows = number of duplicate rows removing 'Survived' column (target)\n",
    "print(f\"Shape of train:    {train.shape}\")\n",
    "print(f\"Shape of test:     {test.shape}\")\n",
    "print(f\"Shape of all_data: {all_data.shape}\")"
   ]
  },
  {
   "cell_type": "code",
   "execution_count": null,
   "id": "a0c5e666",
   "metadata": {},
   "outputs": [],
   "source": []
  },
  {
   "cell_type": "code",
   "execution_count": null,
   "id": "1d999d7a",
   "metadata": {},
   "outputs": [],
   "source": []
  },
  {
   "cell_type": "code",
   "execution_count": null,
   "id": "fb719d07",
   "metadata": {},
   "outputs": [],
   "source": []
  },
  {
   "cell_type": "code",
   "execution_count": null,
   "id": "6a9cf4bb",
   "metadata": {},
   "outputs": [],
   "source": []
  }
 ],
 "metadata": {
  "kernelspec": {
   "display_name": "Python 3",
   "language": "python",
   "name": "python3"
  },
  "language_info": {
   "codemirror_mode": {
    "name": "ipython",
    "version": 3
   },
   "file_extension": ".py",
   "mimetype": "text/x-python",
   "name": "python",
   "nbconvert_exporter": "python",
   "pygments_lexer": "ipython3",
   "version": "3.9.6"
  }
 },
 "nbformat": 4,
 "nbformat_minor": 5
}
